{
 "cells": [
  {
   "cell_type": "markdown",
   "metadata": {
    "id": "WxBbX8ukCrDn"
   },
   "source": [
    "![image info](https://raw.githubusercontent.com/albahnsen/MIAD_ML_and_NLP/main/images/banner_1.png)"
   ]
  },
  {
   "cell_type": "markdown",
   "metadata": {
    "id": "cnL8j5ZECrDp"
   },
   "source": [
    "# Taller: Tokenización de textos  \n",
    "\n",
    "En este taller podrán poner en práctica sus conocimientos sobre preprocesamiento de texto (tokenización). El taller está constituido por 5 puntos, en los cuales deberan seguir las intrucciones de cada numeral para su desarrollo."
   ]
  },
  {
   "cell_type": "markdown",
   "metadata": {
    "id": "l89HIhYOCrDp"
   },
   "source": [
    "## Datos detección de toxicidad en comentarios\n",
    "\n",
    "En este taller se usará el conjunto de datos de detección de toxicidad en comentarios de la base de datos de Kaggle. Cada observación es un comentario que tiene como variable objetivo (target) la probabilidad de ser un comentario tóxico. El objetivo es predecir la toxicidad de cada comentario. Para más detalles pueden visitar el siguiente enlace: [datos](https://www.kaggle.com/c/jigsaw-unintended-bias-in-toxicity-classification/data)."
   ]
  },
  {
   "cell_type": "code",
   "execution_count": 1,
   "metadata": {
    "id": "uQ9fruo4CrDq"
   },
   "outputs": [],
   "source": [
    "import warnings\n",
    "warnings.filterwarnings('ignore')"
   ]
  },
  {
   "cell_type": "code",
   "execution_count": 2,
   "metadata": {
    "id": "NnMstKlDCrDq"
   },
   "outputs": [],
   "source": [
    "# Importación librerías\n",
    "from sklearn.linear_model import LinearRegression\n",
    "import re\n",
    "import pandas as pd\n",
    "import numpy as np\n",
    "import scipy as sp\n",
    "from sklearn.model_selection import train_test_split, cross_val_score\n",
    "from sklearn.feature_extraction.text import CountVectorizer, TfidfVectorizer\n",
    "from sklearn import metrics\n",
    "from sklearn.metrics import mean_squared_error\n",
    "from sklearn.model_selection import cross_val_predict\n",
    "from sklearn.ensemble import RandomForestRegressor\n",
    "from sklearn.ensemble import RandomForestClassifier\n",
    "import matplotlib.pyplot as plt\n",
    "from sklearn.naive_bayes import MultinomialNB\n",
    "%matplotlib inline"
   ]
  },
  {
   "cell_type": "code",
   "execution_count": 3,
   "metadata": {
    "colab": {
     "base_uri": "https://localhost:8080/",
     "height": 206
    },
    "id": "ul6MzKwjCrDr",
    "outputId": "b9f9be8d-ac9a-47c4-895f-1634e3291e91"
   },
   "outputs": [
    {
     "data": {
      "text/html": [
       "<div>\n",
       "<style scoped>\n",
       "    .dataframe tbody tr th:only-of-type {\n",
       "        vertical-align: middle;\n",
       "    }\n",
       "\n",
       "    .dataframe tbody tr th {\n",
       "        vertical-align: top;\n",
       "    }\n",
       "\n",
       "    .dataframe thead th {\n",
       "        text-align: right;\n",
       "    }\n",
       "</style>\n",
       "<table border=\"1\" class=\"dataframe\">\n",
       "  <thead>\n",
       "    <tr style=\"text-align: right;\">\n",
       "      <th></th>\n",
       "      <th>id</th>\n",
       "      <th>comment_text</th>\n",
       "      <th>target</th>\n",
       "    </tr>\n",
       "  </thead>\n",
       "  <tbody>\n",
       "    <tr>\n",
       "      <th>0</th>\n",
       "      <td>6101457</td>\n",
       "      <td>What are you talking about? What group do Pete...</td>\n",
       "      <td>0.0</td>\n",
       "    </tr>\n",
       "    <tr>\n",
       "      <th>1</th>\n",
       "      <td>5342103</td>\n",
       "      <td>NO!, Let him, we need a Conservative government.</td>\n",
       "      <td>0.0</td>\n",
       "    </tr>\n",
       "    <tr>\n",
       "      <th>2</th>\n",
       "      <td>743361</td>\n",
       "      <td>Perhaps he took the \"power out of the Cardinal...</td>\n",
       "      <td>0.2</td>\n",
       "    </tr>\n",
       "    <tr>\n",
       "      <th>3</th>\n",
       "      <td>551008</td>\n",
       "      <td>As always, yours is dripping with sarcasm, whi...</td>\n",
       "      <td>0.0</td>\n",
       "    </tr>\n",
       "    <tr>\n",
       "      <th>4</th>\n",
       "      <td>865998</td>\n",
       "      <td>The dirty little secret is that the price rang...</td>\n",
       "      <td>0.3</td>\n",
       "    </tr>\n",
       "  </tbody>\n",
       "</table>\n",
       "</div>"
      ],
      "text/plain": [
       "        id                                       comment_text  target\n",
       "0  6101457  What are you talking about? What group do Pete...     0.0\n",
       "1  5342103   NO!, Let him, we need a Conservative government.     0.0\n",
       "2   743361  Perhaps he took the \"power out of the Cardinal...     0.2\n",
       "3   551008  As always, yours is dripping with sarcasm, whi...     0.0\n",
       "4   865998  The dirty little secret is that the price rang...     0.3"
      ]
     },
     "execution_count": 3,
     "metadata": {},
     "output_type": "execute_result"
    }
   ],
   "source": [
    "# Carga de datos de archivos .csv\n",
    "df = pd.read_csv('https://raw.githubusercontent.com/albahnsen/MIAD_ML_and_NLP/main/datasets/Toxicity.zip')\n",
    "df = df[['id','comment_text', 'target']]\n",
    "df.head()"
   ]
  },
  {
   "cell_type": "code",
   "execution_count": 4,
   "metadata": {
    "colab": {
     "base_uri": "https://localhost:8080/",
     "height": 448
    },
    "id": "hSJmsT7LCrDr",
    "outputId": "a559d63e-3db2-435b-b0ae-333666ac4833"
   },
   "outputs": [
    {
     "data": {
      "text/plain": [
       "<AxesSubplot: >"
      ]
     },
     "execution_count": 4,
     "metadata": {},
     "output_type": "execute_result"
    },
    {
     "data": {
      "image/png": "[encoded data removed]",
      "text/plain": [
       "<Figure size 640x480 with 1 Axes>"
      ]
     },
     "metadata": {},
     "output_type": "display_data"
    }
   ],
   "source": [
    "# Impresión histograma de variable de interés (y)\n",
    "df.target.hist()"
   ]
  },
  {
   "cell_type": "code",
   "execution_count": 5,
   "metadata": {
    "colab": {
     "base_uri": "https://localhost:8080/"
    },
    "id": "Z2VpUOgWCrDr",
    "outputId": "c715fd9f-7fa1-42cf-86c0-fecac2c657b2"
   },
   "outputs": [
    {
     "data": {
      "text/plain": [
       "count    541462.000000\n",
       "mean          0.102991\n",
       "std           0.196979\n",
       "min           0.000000\n",
       "25%           0.000000\n",
       "50%           0.000000\n",
       "75%           0.166667\n",
       "max           1.000000\n",
       "Name: target, dtype: float64"
      ]
     },
     "execution_count": 5,
     "metadata": {},
     "output_type": "execute_result"
    }
   ],
   "source": [
    "# Separación de variable de interés (y)\n",
    "y = df.target\n",
    "y.describe()"
   ]
  },
  {
   "cell_type": "code",
   "execution_count": 6,
   "metadata": {
    "id": "TviXbWi9CrDs"
   },
   "outputs": [],
   "source": [
    "# Separación de variables predictoras (X), solo se considera el texto de la noticia\n",
    "X = df.comment_text"
   ]
  },
  {
   "cell_type": "code",
   "execution_count": 7,
   "metadata": {
    "id": "gTsp3AtaCrDs"
   },
   "outputs": [],
   "source": [
    "# Separación de datos en set de entrenamiento y test\n",
    "X_train, X_test, y_train, y_test = train_test_split(X, y, test_size=0.33, random_state=42)"
   ]
  },
  {
   "cell_type": "markdown",
   "metadata": {
    "id": "cEe6SZ-8CrDs"
   },
   "source": [
    "## Punto 1 - Tokenización con CountVectorizer\n",
    "\n",
    "En la celda 1 creen y entrenen el modelo de regresión de su preferencia, para que prediga la probabilidad de que un comentario sea tóxico, usando los set de entrenamiento y test definidos anteriormente. Usen la función **CountVectorizer** para preprocesar los comentarios y presenten el desempeño del modelo con la métrica del MSE.\n",
    "\n",
    "Recuerden que el preprocesamiento que se haga sobre los datos de entrenamiento  (*.fit_transform()*) deben ser aplicado al set de test (*.transform()*)."
   ]
  },
  {
   "cell_type": "code",
   "execution_count": 29,
   "metadata": {
    "id": "UTcyOjiKHHiS"
   },
   "outputs": [],
   "source": [
    "vect_C = CountVectorizer(lowercase=False,strip_accents=ascii,max_features=10000)\n",
    "X_dtm_C = vect_C.fit_transform(X_train)"
   ]
  },
  {
   "cell_type": "code",
   "execution_count": 30,
   "metadata": {
    "colab": {
     "base_uri": "https://localhost:8080/"
    },
    "id": "TgOAdZxxAfJe",
    "outputId": "6e7bab71-91c4-464c-86e6-ee0dadfee933"
   },
   "outputs": [
    {
     "data": {
      "text/plain": [
       "(362779, 10000)"
      ]
     },
     "execution_count": 30,
     "metadata": {},
     "output_type": "execute_result"
    }
   ],
   "source": [
    "X_dtm_C.shape"
   ]
  },
  {
   "cell_type": "code",
   "execution_count": 31,
   "metadata": {
    "colab": {
     "base_uri": "https://localhost:8080/"
    },
    "id": "D3HuVHI8ApaS",
    "outputId": "b3f712c7-6d45-4d3f-ae83-f03f62286ad5"
   },
   "outputs": [
    {
     "data": {
      "text/plain": [
       "(362779,)"
      ]
     },
     "execution_count": 31,
     "metadata": {},
     "output_type": "execute_result"
    }
   ],
   "source": [
    "y_train.shape"
   ]
  },
  {
   "cell_type": "code",
   "execution_count": 32,
   "metadata": {
    "colab": {
     "base_uri": "https://localhost:8080/"
    },
    "id": "UiIELmhEnxrI",
    "outputId": "b7fc2597-e07e-4688-81c8-b190b63c8217",
    "scrolled": true
   },
   "outputs": [
    {
     "name": "stdout",
     "output_type": "stream",
     "text": [
      "['will' 'willful' 'willfully' 'willing' 'willingly' 'willingness' 'win'\n",
      " 'wind' 'window' 'windows' 'winds' 'wine' 'wing' 'wingers' 'wings' 'wink'\n",
      " 'winner' 'winners' 'winning' 'wins' 'winter' 'wipe' 'wiped' 'wire'\n",
      " 'wisdom' 'wise' 'wisely' 'wish' 'wished' 'wishes' 'wishing' 'wit' 'witch'\n",
      " 'with' 'withdraw' 'withdrawal' 'within' 'without' 'witness' 'witnessed'\n",
      " 'witnesses' 'wives' 'wolf' 'wolves' 'woman' 'womb' 'women' 'won' 'wonder'\n",
      " 'wondered']\n"
     ]
    }
   ],
   "source": [
    "# Visualización de 50 términos en el diccionario de palabras\n",
    "print(vect_C.get_feature_names_out()[-150:-100])\n"
   ]
  },
  {
   "cell_type": "code",
   "execution_count": 33,
   "metadata": {
    "colab": {
     "base_uri": "https://localhost:8080/"
    },
    "id": "C8zBDLTU8ioq",
    "outputId": "3f2527bb-71ed-4b25-e505-f7933b22ca28"
   },
   "outputs": [
    {
     "name": "stdout",
     "output_type": "stream",
     "text": [
      "Mean Squared Error (MSE): 0.02441746316051621\n"
     ]
    }
   ],
   "source": [
    "lrm = LinearRegression()\n",
    "cv_scores = cross_val_predict(lrm, X_dtm_C, y_train, cv=10)\n",
    "# Calcula el MSE\n",
    "mse = mean_squared_error(y_train, cv_scores)\n",
    "print(\"Mean Squared Error (MSE):\", mse)"
   ]
  },
  {
   "cell_type": "code",
   "execution_count": 34,
   "metadata": {
    "id": "BNTQLtfT9yBh"
   },
   "outputs": [],
   "source": [
    "X_dtm_Ctest = vect_C.transform(X_test)"
   ]
  },
  {
   "cell_type": "code",
   "execution_count": 35,
   "metadata": {
    "colab": {
     "base_uri": "https://localhost:8080/"
    },
    "id": "16Tix3c--LYR",
    "outputId": "3b15abd5-17f8-4d15-8e53-5697ee7ee524"
   },
   "outputs": [
    {
     "name": "stdout",
     "output_type": "stream",
     "text": [
      "Mean Squared Error (MSE): 0.025510207497791905\n"
     ]
    }
   ],
   "source": [
    "predictions1 = cross_val_predict(lrm, X_dtm_Ctest, y_test, cv=10)\n",
    "mse = mean_squared_error(y_test, predictions1)\n",
    "print(\"Mean Squared Error (MSE):\", mse)"
   ]
  },
  {
   "cell_type": "markdown",
   "metadata": {
    "id": "sSGRj3WbCrDt"
   },
   "source": [
    "## Punto 2 - Tokenización con CountVectorizer y trigramas\n",
    "\n",
    "En la celda 2 creen y entrenen el mismo modelo de regresión del punto anterior (es decir si usaron un RandomForestRegresor usen nuevamente ese regresor), para que prediga la probabilidad de que un comentario sea tóxico, usando los set de entrenamiento y test definidos anteriormente. Usen la función CountVectorizer **considerando trigramas** para preprocesar los comentarios y presenten el desempeño del modelo con la métrica del MSE.\n",
    "\n",
    "Recuerden que el preprocesamiento que se haga sobre los datos de entrenamiento  (*.fit_transform()*) deben ser aplicado al set de test (*.transform()*)."
   ]
  },
  {
   "cell_type": "code",
   "execution_count": 36,
   "metadata": {
    "id": "kiAXcJewCrDt"
   },
   "outputs": [],
   "source": [
    "# Celda 2\n",
    "vect_2_train = CountVectorizer(lowercase=False,strip_accents=ascii,ngram_range=(1, 3),max_features=10000)#\n",
    "X_dtm_2train = vect_2_train.fit_transform(X_train)"
   ]
  },
  {
   "cell_type": "code",
   "execution_count": 37,
   "metadata": {
    "id": "SePlY_pG23Ww"
   },
   "outputs": [
    {
     "name": "stdout",
     "output_type": "stream",
     "text": [
      "Mean Squared Error (MSE): 0.026086449365198168\n"
     ]
    }
   ],
   "source": [
    "lrm2 = LinearRegression()\n",
    "cv_scores = cross_val_predict(lrm2, X_dtm_2train, y_train, cv=10)\n",
    "# Calcula el MSE\n",
    "mse = mean_squared_error(y_train, cv_scores)\n",
    "print(\"Mean Squared Error (MSE):\", mse)"
   ]
  },
  {
   "cell_type": "code",
   "execution_count": 38,
   "metadata": {},
   "outputs": [],
   "source": [
    "X_dtm_2test = vect_2_train.transform(X_test)"
   ]
  },
  {
   "cell_type": "code",
   "execution_count": 39,
   "metadata": {
    "id": "PwfFZRTg3as5"
   },
   "outputs": [
    {
     "name": "stdout",
     "output_type": "stream",
     "text": [
      "Mean Squared Error (MSE): 0.027083809048323377\n"
     ]
    }
   ],
   "source": [
    "predictions2 = cross_val_predict(lrm2 , X_dtm_2test, y_test, cv=10)\n",
    "mse = mean_squared_error(y_test, predictions2)\n",
    "print(\"Mean Squared Error (MSE):\", mse)"
   ]
  },
  {
   "cell_type": "markdown",
   "metadata": {
    "id": "dtZfuPiDCrDt"
   },
   "source": [
    "## Punto 3 - TfidfVectorizer\n",
    "\n",
    "Investigen sobre la función TfidfVectorizer. En la celda de texto 3, expliquen en qué consiste esta técnica de tokenización (describanla y expliquen su funcionamiento) y cúales son las ventajas o deventajas de su uso al compararlo con la función CountVectorizer."
   ]
  },
  {
   "cell_type": "markdown",
   "metadata": {
    "id": "0B4qd9juCrDt"
   },
   "source": [
    "#Celda 3\n",
    "TfidfVector4izer: es una función basada en la ponderación relativa, a diferencia del CountVectorizer que realiza una contabilización de todo el documento de manera absoluta. así, no se ve afectada por el contexto general "
   ]
  },
  {
   "cell_type": "markdown",
   "metadata": {
    "id": "zbYOxF5QCrDt"
   },
   "source": [
    "## Punto 4 - Tokenización con TfidfVectorizer\n",
    "\n",
    "En la celda 4 creen y entrenen el mismo modelo de regresión del primer punto, para que prediga la probabilidad de que un comentario sea tóxico, usando los set de entrenamiento y test definidos anteriormente. Procesen los comentarios con la función **TfidfVectorizer** y presenten el desempeño del modelo con la métrica del MSE.\n",
    "\n",
    "Recuerden que el preprocesamiento que se haga sobre los datos de entrenamiento  (*.fit_transform()*) deben ser aplicado al set de test (*.transform()*)."
   ]
  },
  {
   "cell_type": "code",
   "execution_count": 40,
   "metadata": {
    "id": "ZnaD_sYPCrDu"
   },
   "outputs": [],
   "source": [
    "# Celda 4\n",
    "tfidf_vectorizer = TfidfVectorizer(sublinear_tf=True,lowercase=False, strip_accents='ascii', max_features=10000)\n"
   ]
  },
  {
   "cell_type": "code",
   "execution_count": 41,
   "metadata": {},
   "outputs": [],
   "source": [
    "X_dtm_4train = tfidf_vectorizer.fit_transform(X_train)"
   ]
  },
  {
   "cell_type": "code",
   "execution_count": 42,
   "metadata": {},
   "outputs": [
    {
     "name": "stdout",
     "output_type": "stream",
     "text": [
      "Mean Squared Error (MSE): 0.020029433871365215\n"
     ]
    }
   ],
   "source": [
    "lrm4 = LinearRegression()\n",
    "cv_scores = cross_val_predict(lrm4, X_dtm_4train, y_train, cv=10)\n",
    "# Calcula el MSE\n",
    "mse = mean_squared_error(y_train, cv_scores)\n",
    "print(\"Mean Squared Error (MSE):\", mse)"
   ]
  },
  {
   "cell_type": "code",
   "execution_count": 43,
   "metadata": {},
   "outputs": [],
   "source": [
    "X_dtm_4test = tfidf_vectorizer.transform(X_test)"
   ]
  },
  {
   "cell_type": "code",
   "execution_count": 44,
   "metadata": {},
   "outputs": [
    {
     "name": "stdout",
     "output_type": "stream",
     "text": [
      "Mean Squared Error (MSE): 0.02089999359060817\n"
     ]
    }
   ],
   "source": [
    "predictions4 = cross_val_predict(lrm4 , X_dtm_4test, y_test, cv=10)\n",
    "mse = mean_squared_error(y_test, predictions4)\n",
    "print(\"Mean Squared Error (MSE):\", mse)"
   ]
  },
  {
   "cell_type": "code",
   "execution_count": 51,
   "metadata": {},
   "outputs": [],
   "source": [
    "tfidf_vectorizer2 = TfidfVectorizer(sublinear_tf=True,ngram_range=(1, 3),lowercase=False, strip_accents='ascii')\n"
   ]
  },
  {
   "cell_type": "code",
   "execution_count": 52,
   "metadata": {},
   "outputs": [],
   "source": [
    "X_dtm_4_1train = tfidf_vectorizer2.fit_transform(X_train)"
   ]
  },
  {
   "cell_type": "code",
   "execution_count": 53,
   "metadata": {},
   "outputs": [],
   "source": [
    "X_dtm_4_1test=tfidf_vectorizer2.transform(X_test)"
   ]
  },
  {
   "cell_type": "code",
   "execution_count": 54,
   "metadata": {},
   "outputs": [
    {
     "name": "stdout",
     "output_type": "stream",
     "text": [
      "Mean Squared Error (MSE): 0.020660611550361006\n"
     ]
    }
   ],
   "source": [
    "lrm4_1 = LinearRegression()\n",
    "cv_scores = cross_val_predict(lrm4_1, X_dtm_4_1train, y_train, cv=10)\n",
    "# Calcula el MSE\n",
    "mse = mean_squared_error(y_train, cv_scores)\n",
    "print(\"Mean Squared Error (MSE):\", mse)"
   ]
  },
  {
   "cell_type": "code",
   "execution_count": 55,
   "metadata": {},
   "outputs": [
    {
     "name": "stdout",
     "output_type": "stream",
     "text": [
      "Mean Squared Error (MSE): 0.02312954982032703\n"
     ]
    }
   ],
   "source": [
    "predictions4_5 = cross_val_predict(lrm4_1 , X_dtm_4_1test, y_test, cv=10)\n",
    "mse = mean_squared_error(y_test, predictions4_5)\n",
    "print(\"Mean Squared Error (MSE):\", mse)"
   ]
  },
  {
   "cell_type": "markdown",
   "metadata": {
    "id": "9c7FkgThCrDu"
   },
   "source": [
    "## Punto 5 - Comparación y análisis de resultados\n",
    "\n",
    "En la celda 5 comparen los resultados obtenidos de los diferentes modelos y comenten cómo el preprocesamiento de texto afecta el desempeño."
   ]
  },
  {
   "cell_type": "code",
   "execution_count": null,
   "metadata": {
    "id": "2IDO8JAsCrDu"
   },
   "outputs": [],
   "source": [
    "# Celda 5\n",
    "#En relación al mejor desempeño la función de TfidfVectorizer, la ponderación relativa que realiza es eficiente\n",
    "#en relación a la función CountVectorizer; el procesamiento hace una tarea de homogenizar los textos dismiuyendo \n",
    "#la cantidad de palabras disminuyendo la variabilidad, una tarea indispensable y necesaria este tipo de modelizaciones\n",
    "#que tienen un alto consumo de recursos "
   ]
  }
 ],
 "metadata": {
  "colab": {
   "provenance": []
  },
  "kernelspec": {
   "display_name": "Python 3 (ipykernel)",
   "language": "python",
   "name": "python3"
  },
  "language_info": {
   "codemirror_mode": {
    "name": "ipython",
    "version": 3
   },
   "file_extension": ".py",
   "mimetype": "text/x-python",
   "name": "python",
   "nbconvert_exporter": "python",
   "pygments_lexer": "ipython3",
   "version": "3.9.18"
  },
  "name": "_merged"
 },
 "nbformat": 4,
 "nbformat_minor": 1
}
