{
 "cells": [
  {
   "cell_type": "markdown",
   "metadata": {},
   "source": [
    "![image info](https://raw.githubusercontent.com/albahnsen/MIAD_ML_and_NLP/main/images/banner_1.png)"
   ]
  },
  {
   "cell_type": "markdown",
   "metadata": {},
   "source": [
    "# Taller: Análisis de sentimientos y técnicas de NLP\n",
    "\n",
    "En este taller podrán poner en práctica sus conocimientos sobre las diferentes técnicas para el procesamiento de lenguaje natural. El taller está constituido por 5 puntos, en los cuales deberan seguir las intrucciones de cada numeral para su desarrollo."
   ]
  },
  {
   "cell_type": "markdown",
   "metadata": {},
   "source": [
    "## Datos predicción sentimientos de viajeros en Twitter\n",
    "\n",
    "En este taller se usará el conjunto de datos de sentimientos sobre distintas aerolíneas de EE.UU. provenientes de Twitter. Cada observación contiene si el sentimiento de los tweets es positivo, neutral o negativo teniendo en cuenta distintas variables como aerolínea y las razones de los sentimientos negativos (como \"retraso en el vuelo\" o \"servicio grosero\"). El objetivo es predecir el sentimiento asociado a cada tweet. Para más detalles pueden visitar el siguiente enlace: [datos](https://www.kaggle.com/crowdflower/twitter-airline-sentiment)."
   ]
  },
  {
   "cell_type": "code",
   "execution_count": 1,
   "metadata": {},
   "outputs": [],
   "source": [
    "import warnings\n",
    "warnings.filterwarnings('ignore')"
   ]
  },
  {
   "cell_type": "code",
   "execution_count": 2,
   "metadata": {},
   "outputs": [],
   "source": [
    "# Importación de librerías\n",
    "import pandas as pd\n",
    "import numpy as np\n",
    "%matplotlib inline\n",
    "import matplotlib.pyplot as plt"
   ]
  },
  {
   "cell_type": "code",
   "execution_count": 3,
   "metadata": {},
   "outputs": [
    {
     "data": {
      "text/html": [
       "<div>\n",
       "<style scoped>\n",
       "    .dataframe tbody tr th:only-of-type {\n",
       "        vertical-align: middle;\n",
       "    }\n",
       "\n",
       "    .dataframe tbody tr th {\n",
       "        vertical-align: top;\n",
       "    }\n",
       "\n",
       "    .dataframe thead th {\n",
       "        text-align: right;\n",
       "    }\n",
       "</style>\n",
       "<table border=\"1\" class=\"dataframe\">\n",
       "  <thead>\n",
       "    <tr style=\"text-align: right;\">\n",
       "      <th></th>\n",
       "      <th>airline_sentiment</th>\n",
       "      <th>airline_sentiment_confidence</th>\n",
       "      <th>negativereason</th>\n",
       "      <th>negativereason_confidence</th>\n",
       "      <th>airline</th>\n",
       "      <th>airline_sentiment_gold</th>\n",
       "      <th>name</th>\n",
       "      <th>negativereason_gold</th>\n",
       "      <th>retweet_count</th>\n",
       "      <th>text</th>\n",
       "      <th>tweet_coord</th>\n",
       "      <th>tweet_created</th>\n",
       "      <th>tweet_location</th>\n",
       "      <th>user_timezone</th>\n",
       "    </tr>\n",
       "    <tr>\n",
       "      <th>tweet_id</th>\n",
       "      <th></th>\n",
       "      <th></th>\n",
       "      <th></th>\n",
       "      <th></th>\n",
       "      <th></th>\n",
       "      <th></th>\n",
       "      <th></th>\n",
       "      <th></th>\n",
       "      <th></th>\n",
       "      <th></th>\n",
       "      <th></th>\n",
       "      <th></th>\n",
       "      <th></th>\n",
       "      <th></th>\n",
       "    </tr>\n",
       "  </thead>\n",
       "  <tbody>\n",
       "    <tr>\n",
       "      <th>570306133677760513</th>\n",
       "      <td>neutral</td>\n",
       "      <td>1.0000</td>\n",
       "      <td>NaN</td>\n",
       "      <td>NaN</td>\n",
       "      <td>Virgin America</td>\n",
       "      <td>NaN</td>\n",
       "      <td>cairdin</td>\n",
       "      <td>NaN</td>\n",
       "      <td>0</td>\n",
       "      <td>@VirginAmerica What @dhepburn said.</td>\n",
       "      <td>NaN</td>\n",
       "      <td>2015-02-24 11:35:52 -0800</td>\n",
       "      <td>NaN</td>\n",
       "      <td>Eastern Time (US &amp; Canada)</td>\n",
       "    </tr>\n",
       "    <tr>\n",
       "      <th>570301130888122368</th>\n",
       "      <td>positive</td>\n",
       "      <td>0.3486</td>\n",
       "      <td>NaN</td>\n",
       "      <td>0.0000</td>\n",
       "      <td>Virgin America</td>\n",
       "      <td>NaN</td>\n",
       "      <td>jnardino</td>\n",
       "      <td>NaN</td>\n",
       "      <td>0</td>\n",
       "      <td>@VirginAmerica plus you've added commercials t...</td>\n",
       "      <td>NaN</td>\n",
       "      <td>2015-02-24 11:15:59 -0800</td>\n",
       "      <td>NaN</td>\n",
       "      <td>Pacific Time (US &amp; Canada)</td>\n",
       "    </tr>\n",
       "    <tr>\n",
       "      <th>570301083672813571</th>\n",
       "      <td>neutral</td>\n",
       "      <td>0.6837</td>\n",
       "      <td>NaN</td>\n",
       "      <td>NaN</td>\n",
       "      <td>Virgin America</td>\n",
       "      <td>NaN</td>\n",
       "      <td>yvonnalynn</td>\n",
       "      <td>NaN</td>\n",
       "      <td>0</td>\n",
       "      <td>@VirginAmerica I didn't today... Must mean I n...</td>\n",
       "      <td>NaN</td>\n",
       "      <td>2015-02-24 11:15:48 -0800</td>\n",
       "      <td>Lets Play</td>\n",
       "      <td>Central Time (US &amp; Canada)</td>\n",
       "    </tr>\n",
       "    <tr>\n",
       "      <th>570301031407624196</th>\n",
       "      <td>negative</td>\n",
       "      <td>1.0000</td>\n",
       "      <td>Bad Flight</td>\n",
       "      <td>0.7033</td>\n",
       "      <td>Virgin America</td>\n",
       "      <td>NaN</td>\n",
       "      <td>jnardino</td>\n",
       "      <td>NaN</td>\n",
       "      <td>0</td>\n",
       "      <td>@VirginAmerica it's really aggressive to blast...</td>\n",
       "      <td>NaN</td>\n",
       "      <td>2015-02-24 11:15:36 -0800</td>\n",
       "      <td>NaN</td>\n",
       "      <td>Pacific Time (US &amp; Canada)</td>\n",
       "    </tr>\n",
       "    <tr>\n",
       "      <th>570300817074462722</th>\n",
       "      <td>negative</td>\n",
       "      <td>1.0000</td>\n",
       "      <td>Can't Tell</td>\n",
       "      <td>1.0000</td>\n",
       "      <td>Virgin America</td>\n",
       "      <td>NaN</td>\n",
       "      <td>jnardino</td>\n",
       "      <td>NaN</td>\n",
       "      <td>0</td>\n",
       "      <td>@VirginAmerica and it's a really big bad thing...</td>\n",
       "      <td>NaN</td>\n",
       "      <td>2015-02-24 11:14:45 -0800</td>\n",
       "      <td>NaN</td>\n",
       "      <td>Pacific Time (US &amp; Canada)</td>\n",
       "    </tr>\n",
       "  </tbody>\n",
       "</table>\n",
       "</div>"
      ],
      "text/plain": [
       "                   airline_sentiment  airline_sentiment_confidence  \\\n",
       "tweet_id                                                             \n",
       "570306133677760513           neutral                        1.0000   \n",
       "570301130888122368          positive                        0.3486   \n",
       "570301083672813571           neutral                        0.6837   \n",
       "570301031407624196          negative                        1.0000   \n",
       "570300817074462722          negative                        1.0000   \n",
       "\n",
       "                   negativereason  negativereason_confidence         airline  \\\n",
       "tweet_id                                                                       \n",
       "570306133677760513            NaN                        NaN  Virgin America   \n",
       "570301130888122368            NaN                     0.0000  Virgin America   \n",
       "570301083672813571            NaN                        NaN  Virgin America   \n",
       "570301031407624196     Bad Flight                     0.7033  Virgin America   \n",
       "570300817074462722     Can't Tell                     1.0000  Virgin America   \n",
       "\n",
       "                   airline_sentiment_gold        name negativereason_gold  \\\n",
       "tweet_id                                                                    \n",
       "570306133677760513                    NaN     cairdin                 NaN   \n",
       "570301130888122368                    NaN    jnardino                 NaN   \n",
       "570301083672813571                    NaN  yvonnalynn                 NaN   \n",
       "570301031407624196                    NaN    jnardino                 NaN   \n",
       "570300817074462722                    NaN    jnardino                 NaN   \n",
       "\n",
       "                    retweet_count  \\\n",
       "tweet_id                            \n",
       "570306133677760513              0   \n",
       "570301130888122368              0   \n",
       "570301083672813571              0   \n",
       "570301031407624196              0   \n",
       "570300817074462722              0   \n",
       "\n",
       "                                                                 text  \\\n",
       "tweet_id                                                                \n",
       "570306133677760513                @VirginAmerica What @dhepburn said.   \n",
       "570301130888122368  @VirginAmerica plus you've added commercials t...   \n",
       "570301083672813571  @VirginAmerica I didn't today... Must mean I n...   \n",
       "570301031407624196  @VirginAmerica it's really aggressive to blast...   \n",
       "570300817074462722  @VirginAmerica and it's a really big bad thing...   \n",
       "\n",
       "                   tweet_coord              tweet_created tweet_location  \\\n",
       "tweet_id                                                                   \n",
       "570306133677760513         NaN  2015-02-24 11:35:52 -0800            NaN   \n",
       "570301130888122368         NaN  2015-02-24 11:15:59 -0800            NaN   \n",
       "570301083672813571         NaN  2015-02-24 11:15:48 -0800      Lets Play   \n",
       "570301031407624196         NaN  2015-02-24 11:15:36 -0800            NaN   \n",
       "570300817074462722         NaN  2015-02-24 11:14:45 -0800            NaN   \n",
       "\n",
       "                                 user_timezone  \n",
       "tweet_id                                        \n",
       "570306133677760513  Eastern Time (US & Canada)  \n",
       "570301130888122368  Pacific Time (US & Canada)  \n",
       "570301083672813571  Central Time (US & Canada)  \n",
       "570301031407624196  Pacific Time (US & Canada)  \n",
       "570300817074462722  Pacific Time (US & Canada)  "
      ]
     },
     "execution_count": 3,
     "metadata": {},
     "output_type": "execute_result"
    }
   ],
   "source": [
    "# Lectura de la información de archivo .zip\n",
    "tweets = pd.read_csv('https://raw.githubusercontent.com/albahnsen/MIAD_ML_and_NLP/main/datasets/Tweets.zip', index_col=0)\n",
    "\n",
    "# Visualización dataset\n",
    "tweets.head()"
   ]
  },
  {
   "cell_type": "code",
   "execution_count": 4,
   "metadata": {},
   "outputs": [
    {
     "data": {
      "text/plain": [
       "(14640, 14)"
      ]
     },
     "execution_count": 4,
     "metadata": {},
     "output_type": "execute_result"
    }
   ],
   "source": [
    "# Impresión tamaño del cojunto de datos\n",
    "tweets.shape"
   ]
  },
  {
   "cell_type": "markdown",
   "metadata": {},
   "source": [
    "### Análisis descriptivo"
   ]
  },
  {
   "cell_type": "code",
   "execution_count": 5,
   "metadata": {},
   "outputs": [
    {
     "data": {
      "text/plain": [
       "airline_sentiment\n",
       "negative    9178\n",
       "neutral     3099\n",
       "positive    2363\n",
       "Name: count, dtype: int64"
      ]
     },
     "execution_count": 5,
     "metadata": {},
     "output_type": "execute_result"
    }
   ],
   "source": [
    "# Cuenta de tweets por cada sentimiento\n",
    "tweets['airline_sentiment'].value_counts()"
   ]
  },
  {
   "cell_type": "code",
   "execution_count": 6,
   "metadata": {},
   "outputs": [
    {
     "data": {
      "text/plain": [
       "airline\n",
       "United            3822\n",
       "US Airways        2913\n",
       "American          2759\n",
       "Southwest         2420\n",
       "Delta             2222\n",
       "Virgin America     504\n",
       "Name: count, dtype: int64"
      ]
     },
     "execution_count": 6,
     "metadata": {},
     "output_type": "execute_result"
    }
   ],
   "source": [
    "# Cuenta de tweets por cada aerolínea\n",
    "tweets['airline'].value_counts()"
   ]
  },
  {
   "cell_type": "code",
   "execution_count": 7,
   "metadata": {},
   "outputs": [
    {
     "data": {
      "text/plain": [
       "<Axes: title={'center': 'Sentimientos por aerolínea'}, xlabel='airline'>"
      ]
     },
     "execution_count": 7,
     "metadata": {},
     "output_type": "execute_result"
    },
    {
     "data": {
      "image/png": "[encoded data removed]",
      "text/plain": [
       "<Figure size 1000x600 with 1 Axes>"
      ]
     },
     "metadata": {},
     "output_type": "display_data"
    }
   ],
   "source": [
    "# Plot con cuenta de tweets por cada aerolínea y sentimiento\n",
    "pd.crosstab(index = tweets[\"airline\"],columns = tweets[\"airline_sentiment\"]).plot(kind='bar',figsize=(10, 6),alpha=0.5,rot=0,stacked=True,title=\"Sentimientos por aerolínea\")"
   ]
  },
  {
   "cell_type": "markdown",
   "metadata": {},
   "source": [
    "### Librerías y Variables de interés y predicción"
   ]
  },
  {
   "cell_type": "code",
   "execution_count": 8,
   "metadata": {},
   "outputs": [],
   "source": [
    "from sklearn.model_selection import train_test_split, cross_val_score\n",
    "from sklearn.feature_extraction.text import CountVectorizer, TfidfVectorizer\n",
    "from sklearn.ensemble import RandomForestClassifier\n",
    "from sklearn.metrics import accuracy_score\n",
    "\n",
    "from nltk.stem.snowball import SnowballStemmer\n",
    "from nltk.stem import WordNetLemmatizer"
   ]
  },
  {
   "cell_type": "code",
   "execution_count": 9,
   "metadata": {},
   "outputs": [],
   "source": [
    "# Separación de variables predictoras (X) y de variable de interés (y)\n",
    "X = tweets['text']\n",
    "y = tweets['airline_sentiment'].map({'negative':-1,'neutral':0,'positive':1})"
   ]
  },
  {
   "cell_type": "code",
   "execution_count": 10,
   "metadata": {},
   "outputs": [],
   "source": [
    "# Separación de datos en set de entrenamiento y test\n",
    "X_train, X_test, y_train, y_test = train_test_split(X, y, test_size=0.33, random_state=42)"
   ]
  },
  {
   "cell_type": "markdown",
   "metadata": {},
   "source": [
    "### Punto 1 - Uso de CountVectorizer\n",
    "\n",
    "En la celda 1 creen un modelo de random forest con la libreria sklearn que prediga el sentimiento de los tweets usando los set de entrenamiento y test definidos anteriormente. Usen la función **CountVectorizer** y presenten el desempeño del modelo con la métrica del acurracy.\n",
    "\n",
    "Recuerden que el preprocesamiento que se haga sobre los datos de entrenamiento  (*.fit_transform()*) deben ser aplicado al set de test (*.transform()*)."
   ]
  },
  {
   "cell_type": "code",
   "execution_count": 11,
   "metadata": {},
   "outputs": [
    {
     "name": "stdout",
     "output_type": "stream",
     "text": [
      "Precisión del modelo Random Forest con CountVectorizer: 0.7698675496688742\n"
     ]
    }
   ],
   "source": [
    "# Celda 1\n",
    "\n",
    "# Crear un objeto Countvectorizador\n",
    "vectorizador = CountVectorizer()\n",
    "\n",
    "# Ajustar y transformar los datos de entrenamiento\n",
    "X_train_vectorizado = vectorizador.fit_transform(X_train)\n",
    "\n",
    "# Transformar los datos de prueba\n",
    "X_test_vectorizado = vectorizador.transform(X_test)\n",
    "\n",
    "# Crear un modelo Random Forest\n",
    "rf_cv_modelo = RandomForestClassifier(n_estimators=100, random_state=42)\n",
    "#rf_model = RandomForestClassifier()\n",
    "\n",
    "\n",
    "# Entrenar el modelo\n",
    "rf_cv_modelo.fit(X_train_vectorizado, y_train)\n",
    "\n",
    "# Predecir el sentimiento en los datos de prueba\n",
    "y_pred = rf_cv_modelo.predict(X_test_vectorizado)\n",
    "\n",
    "# Calcular el accuracy\n",
    "rf_cv_accuracy = accuracy_score(y_test, y_pred)\n",
    "\n",
    "print(\"Precisión del modelo Random Forest con CountVectorizer:\", rf_cv_accuracy)\n"
   ]
  },
  {
   "cell_type": "markdown",
   "metadata": {},
   "source": [
    "### Punto 2 - Eliminación de Stopwords\n",
    "\n",
    "En la celda 2 creen un modelo de random forest con la libreria sklearn que prediga el sentimiento de los tweets usando los set de entrenamiento y test definidos anteriormente. Usen la función CountVectorizer, **eliminen stopwords** y presenten el desempeño del modelo con la métrica del acurracy.\n",
    "\n",
    "Recuerden que el preprocesamiento que se haga sobre los datos de entrenamiento  (*.fit_transform()*) deben ser aplicado al set de test (*.transform()*)."
   ]
  },
  {
   "cell_type": "code",
   "execution_count": 12,
   "metadata": {},
   "outputs": [
    {
     "name": "stdout",
     "output_type": "stream",
     "text": [
      "Precisión del modelo Random Forest con Stopwords: 0.761796357615894\n"
     ]
    }
   ],
   "source": [
    "# Celda 2\n",
    "\n",
    "# Crear un objeto CountVectorizer con eliminación de stopwords idioma inglés\n",
    "vectorizador = CountVectorizer(stop_words='english')\n",
    "\n",
    "# Ajustar y transformar los datos de entrenamiento\n",
    "X_train_vectorizado = vectorizador.fit_transform(X_train)\n",
    "\n",
    "# Transformar los datos de prueba\n",
    "X_test_vectorizado = vectorizador.transform(X_test)\n",
    "\n",
    "# Crear un modelo Random Forest\n",
    "rf_sw_modelo = RandomForestClassifier(n_estimators=100, random_state=42)\n",
    "\n",
    "# Entrenar el modelo\n",
    "rf_sw_modelo.fit(X_train_vectorizado, y_train)\n",
    "\n",
    "# Predecir el sentimiento en los datos de prueba\n",
    "y_pred = rf_sw_modelo.predict(X_test_vectorizado)\n",
    "\n",
    "# Calcular el accuracy\n",
    "rf_sw_accuracy = accuracy_score(y_test, y_pred)\n",
    "\n",
    "print(\"Precisión del modelo Random Forest con Stopwords:\", rf_sw_accuracy)\n"
   ]
  },
  {
   "cell_type": "markdown",
   "metadata": {},
   "source": [
    "### Punto 3 - Lematización con verbos\n",
    "\n",
    "En la celda 3 creen un modelo de random forest con la libreria sklearn que prediga el sentimiento de los tweets usando los set de entrenamiento y test definidos anteriormente. Usen la función CountVectorizer, **lematizen el texto con verbos** y presenten el desempeño del modelo con la métrica del acurracy.\n",
    "\n",
    "Recuerden que el preprocesamiento que se haga sobre los datos de entrenamiento  (*.fit_transform()*) deben ser aplicado al set de test (*.transform()*)."
   ]
  },
  {
   "cell_type": "code",
   "execution_count": 13,
   "metadata": {},
   "outputs": [
    {
     "name": "stdout",
     "output_type": "stream",
     "text": [
      "Precisión del modelo Random Forest con Lemmatizar con Verbos: 0.7721440397350994\n"
     ]
    }
   ],
   "source": [
    "# Celda 3\n",
    "\n",
    "# Función para lematización con verbos\n",
    "def lemmatizar_con_verbos(text):\n",
    "    lemmatizer = WordNetLemmatizer()\n",
    "    lemmatizado_tokens = [lemmatizer.lemmatize(word, pos='v') for word in text.split()]\n",
    "    return ' '.join(lemmatizado_tokens)\n",
    "\n",
    "# Aplicar lematización con verbos a los datos de entrenamiento\n",
    "X_train_lemmatizado = [lemmatizar_con_verbos(text) for text in X_train]\n",
    "\n",
    "# Crear el vectorizador CountVectorizer\n",
    "vectorizer = CountVectorizer()\n",
    "\n",
    "# Ajustar y transformar los datos de entrenamiento\n",
    "X_train_vectorizado = vectorizer.fit_transform(X_train_lemmatizado)\n",
    "\n",
    "# Entrenar el modelo\n",
    "rf_lv_modelo = RandomForestClassifier()\n",
    "rf_lv_modelo.fit(X_train_vectorizado, y_train)\n",
    "\n",
    "# Aplicar lematización con verbos a los datos de prueba\n",
    "X_test_lemmatizado = [lemmatizar_con_verbos(text) for text in X_test]\n",
    "\n",
    "# Transformar los datos de prueba\n",
    "X_test_vectorizado = vectorizer.transform(X_test_lemmatizado)\n",
    "\n",
    "# Predecir los datos de prueba\n",
    "y_pred = rf_lv_modelo.predict(X_test_vectorizado)\n",
    "\n",
    "# Calcular la precisión en los datos de prueba\n",
    "rf_lv_accuracy = accuracy_score(y_test, y_pred)\n",
    "print(\"Precisión del modelo Random Forest con Lemmatizar con Verbos:\", rf_lv_accuracy)\n"
   ]
  },
  {
   "cell_type": "markdown",
   "metadata": {},
   "source": [
    "### Punto 4 - Multiples técnicas\n",
    "\n",
    "En la celda 4 creen un modelo de random forest con la libreria sklearn que prediga el sentimiento de los tweets usando los set de entrenamiento y test definidos anteriormente. Usen la función **CountVectorizer, eliminen stopwords, lematizen el texto con verbos** y presenten el desempeño del modelo con la métrica del acurracy.\n",
    "\n",
    "Recuerden que el preprocesamiento que se haga sobre los datos de entrenamiento  (*.fit_transform()*) deben ser aplicado al set de test (*.transform()*)."
   ]
  },
  {
   "cell_type": "code",
   "execution_count": 14,
   "metadata": {},
   "outputs": [
    {
     "name": "stdout",
     "output_type": "stream",
     "text": [
      "Precisión del modelo Random Forest con múltiples técnicas: 0.7684188741721855\n"
     ]
    }
   ],
   "source": [
    "# Celda 4\n",
    "\n",
    "# Celda 4\n",
    "# Función para lematizar el texto con verbos\n",
    "def lemmatizar_con_verbos(text):\n",
    "    lemmatizar = WordNetLemmatizer()\n",
    "    lemmatizado_tokens = [lemmatizar.lemmatize(word, pos='v') for word in text.split()]\n",
    "    return ' '.join(lemmatizado_tokens)\n",
    "\n",
    "\n",
    "# Aplicar lematización con verbos a los datos de entrenamiento\n",
    "X_train_lemmatizado = [lemmatizar_con_verbos(text) for text in X_train]\n",
    "\n",
    "# Crear el vectorizador CountVectorizer\n",
    "vectorizar = CountVectorizer(lowercase=False, strip_accents='ascii', stop_words='english')\n",
    "\n",
    "# Ajustar y transformar los datos de entrenamiento\n",
    "X_train_vectorizado = vectorizar.fit_transform(X_train_lemmatizado)\n",
    "\n",
    "# Entrenar el modelo\n",
    "rf_lvs_modelo = RandomForestClassifier(n_estimators=100, random_state=42)\n",
    "rf_lvs_modelo.fit(X_train_vectorizado, y_train)\n",
    "\n",
    "# Aplicar lematización con verbos a los datos de prueba\n",
    "X_test_lemmatizado = [lemmatizar_con_verbos(text) for text in X_test]\n",
    "\n",
    "# Transformar los datos de prueba\n",
    "X_test_vectorizado = vectorizar.transform(X_test_lemmatizado)\n",
    "\n",
    "# Predecir los datos de prueba\n",
    "y_pred = rf_lvs_modelo.predict(X_test_vectorizado)\n",
    "\n",
    "# Calcular la precisión en los datos de prueba\n",
    "rf_lvs_accuracy = accuracy_score(y_test, y_pred)\n",
    "print(\"Precisión del modelo Random Forest con múltiples técnicas:\", rf_lvs_accuracy)\n"
   ]
  },
  {
   "cell_type": "markdown",
   "metadata": {},
   "source": [
    "### Punto 5 - Comparación y análisis de resultados\n",
    "\n",
    "En la celda 5 comparen los resultados obtenidos de los diferentes modelos (random forest) y comenten las ventajas del mejor modelo y las desventajas del modelo con el menor desempeño."
   ]
  },
  {
   "cell_type": "code",
   "execution_count": 19,
   "metadata": {},
   "outputs": [
    {
     "name": "stdout",
     "output_type": "stream",
     "text": [
      "Precisión del modelo Random Forest con CountVectorizer: 0.7699\n",
      "Precisión del modelo Random Forest con Stopwords: 0.7618\n",
      "Precisión del modelo Random Forest con Lemmatización de Verbos: 0.7721\n",
      "Precisión del modelo Random Forest con Múltiples Técnicas: 0.7684\n",
      "\n",
      "El MEJOR modelo es 'Lemmatización de Verbos' con precisión -accuracy-: 0.7721.\n",
      "El PEOR modelo es 'Stopwords' con precisión -accuracy-: 0.7618.\n",
      "\n"
     ]
    },
    {
     "data": {
      "image/png": "[encoded data removed]",
      "text/plain": [
       "<Figure size 640x480 with 1 Axes>"
      ]
     },
     "metadata": {},
     "output_type": "display_data"
    },
    {
     "name": "stdout",
     "output_type": "stream",
     "text": [
      "----------------------------------------------------------------------------------------------------\n",
      "**Análisis y COmentarios:**\n",
      "                                                            \n",
      "El MEJOR modelo fue el que aplicó Random Forest con Lematización de Verbos (accuracy = 0.7744), lo cual\n",
      "indica que normalizar las palabras a su forma base puede ser útil para este tipo de tarea. El modelo con\n",
      "menor precisión -PEOR- fue Random Forest con Stopwords (accuracy = 0.7618), sugiriendo que algunas\n",
      "palabras comunes pueden ser importantes para el análisis de los sentimientos en los tweets.\n",
      "                                                            \n",
      "El modelo con Múltiples Técnicas aunque combina varias tecnicas ocupó el tercer lugar de precisión, y al\n",
      "parecer esto se debe a que al combinar Lematización y eliminación de Stopwords, posiblemente se eliminó\n",
      "o alterò información importante para el análisis de sentimientos, lo cual pudo afectar la precisión.\n",
      "----------------------------------------------------------------------------------------------------\n"
     ]
    }
   ],
   "source": [
    "# Celda 5\n",
    "\n",
    "# Listar precisión -accuracy- de los modelos\n",
    "precisions = {\n",
    "    \"CountVectorizer\": rf_cv_accuracy,\n",
    "    \"Stopwords\": rf_sw_accuracy,\n",
    "    \"Lemmatización de Verbos\": rf_lv_accuracy,\n",
    "    \"Múltiples Técnicas\": rf_lvs_accuracy\n",
    "}\n",
    "\n",
    "# Mostrar precisiones -accuracy- de los modelos\n",
    "for model, accuracy in precisions.items():\n",
    "    print(f\"Precisión del modelo Random Forest con {model}: {accuracy:.4f}\")\n",
    "\n",
    "    \n",
    "# Encontrar mejor y peor modelo\n",
    "mejor_modelo = max(precisions, key=precisions.get)\n",
    "peor_modelo = min(precisions, key=precisions.get)\n",
    "\n",
    "print(f\"\\nEl MEJOR modelo es '{mejor_modelo}' con precisión -accuracy-: {precisions[mejor_modelo]:.4f}.\")\n",
    "print(f\"El PEOR modelo es '{peor_modelo}' con precisión -accuracy-: {precisions[peor_modelo]:.4f}.\\n\")\n",
    "\n",
    "\n",
    "# Crear gráfico de barras resultados\n",
    "modelos = list(precisions.keys())\n",
    "precisiones = list(precisions.values())\n",
    "\n",
    "plt.bar(modelos, precisiones, color='green')\n",
    "plt.xlabel(\"Modelos\")\n",
    "plt.ylabel(\"Precisión\")\n",
    "plt.title(\"Precisión de los modelos Random Forest\")\n",
    "plt.ylim(0.75, 0.78)\n",
    "plt.xticks(rotation=45, ha='right')\n",
    "plt.tight_layout()\n",
    "plt.show()\n",
    "\n",
    "print('-' * 100)\n",
    "print('**Análisis y COmentarios:**')\n",
    "print(' ' * 60)\n",
    "print('El MEJOR modelo fue el que aplicó Random Forest con Lematización de Verbos (accuracy = 0.7744), lo cual')\n",
    "print('indica que normalizar las palabras a su forma base puede ser útil para este tipo de tarea. El modelo con')\n",
    "print('menor precisión -PEOR- fue Random Forest con Stopwords (accuracy = 0.7618), sugiriendo que algunas')\n",
    "print('palabras comunes pueden ser importantes para el análisis de los sentimientos en los tweets.')\n",
    "print(' ' * 60)\n",
    "print('El modelo con Múltiples Técnicas aunque combina varias tecnicas ocupó el tercer lugar de precisión, y al')\n",
    "print('parecer esto se debe a que al combinar Lematización y eliminación de Stopwords, posiblemente se eliminó')\n",
    "print('o alterò información importante para el análisis de sentimientos, lo cual pudo afectar la precisión.')\n",
    "print('-' * 100)\n"
   ]
  },
  {
   "cell_type": "code",
   "execution_count": null,
   "metadata": {},
   "outputs": [],
   "source": []
  }
 ],
 "metadata": {
  "kernelspec": {
   "display_name": "Python 3 (ipykernel)",
   "language": "python",
   "name": "python3"
  },
  "language_info": {
   "codemirror_mode": {
    "name": "ipython",
    "version": 3
   },
   "file_extension": ".py",
   "mimetype": "text/x-python",
   "name": "python",
   "nbconvert_exporter": "python",
   "pygments_lexer": "ipython3",
   "version": "3.11.8"
  }
 },
 "nbformat": 4,
 "nbformat_minor": 2
}
